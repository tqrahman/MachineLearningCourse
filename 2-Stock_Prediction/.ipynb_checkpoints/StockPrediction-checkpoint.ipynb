{
 "cells": [
  {
   "cell_type": "markdown",
   "metadata": {},
   "source": [
    "# Stock Prediction\n",
    "\n",
    "Inspiration from https://towardsdatascience.com/in-12-minutes-stocks-analysis-with-pandas-and-scikit-learn-a8d8a7b50ee7"
   ]
  },
  {
   "cell_type": "code",
   "execution_count": 28,
   "metadata": {},
   "outputs": [],
   "source": [
    "# Imports\n",
    "\n",
    "# Data imports\n",
    "import pandas as pd\n",
    "import datetime\n",
    "import pandas_datareader.data as web\n",
    "\n",
    "# Plotting imports\n",
    "import matplotlib.pyplot as plt\n",
    "import matplotlib as mpl\n",
    "%matplotlib inline\n",
    "mpl.rc('figure', figsize=(8, 7))\n",
    "\n",
    "# Machine Learning imports\n",
    "from sklearn.model_selection import train_test_split\n",
    "from sklearn import linear_model"
   ]
  },
  {
   "cell_type": "code",
   "execution_count": 3,
   "metadata": {
    "collapsed": true
   },
   "outputs": [],
   "source": [
    "# Getting Neflix data\n",
    "\n",
    "start = datetime.datetime(2012, 1, 1)\n",
    "end = datetime.datetime(2019, 9, 1)\n",
    "\n",
    "nflx = web.DataReader(\"NFLX\", 'yahoo', start, end)"
   ]
  },
  {
   "cell_type": "code",
   "execution_count": 6,
   "metadata": {},
   "outputs": [
    {
     "data": {
      "text/html": [
       "<div>\n",
       "<style scoped>\n",
       "    .dataframe tbody tr th:only-of-type {\n",
       "        vertical-align: middle;\n",
       "    }\n",
       "\n",
       "    .dataframe tbody tr th {\n",
       "        vertical-align: top;\n",
       "    }\n",
       "\n",
       "    .dataframe thead th {\n",
       "        text-align: right;\n",
       "    }\n",
       "</style>\n",
       "<table border=\"1\" class=\"dataframe\">\n",
       "  <thead>\n",
       "    <tr style=\"text-align: right;\">\n",
       "      <th></th>\n",
       "      <th>High</th>\n",
       "      <th>Low</th>\n",
       "      <th>Open</th>\n",
       "      <th>Close</th>\n",
       "      <th>Volume</th>\n",
       "      <th>Adj Close</th>\n",
       "    </tr>\n",
       "    <tr>\n",
       "      <th>Date</th>\n",
       "      <th></th>\n",
       "      <th></th>\n",
       "      <th></th>\n",
       "      <th></th>\n",
       "      <th></th>\n",
       "      <th></th>\n",
       "    </tr>\n",
       "  </thead>\n",
       "  <tbody>\n",
       "    <tr>\n",
       "      <td>2012-01-03</td>\n",
       "      <td>10.388572</td>\n",
       "      <td>10.018572</td>\n",
       "      <td>10.040000</td>\n",
       "      <td>10.320000</td>\n",
       "      <td>29213800.0</td>\n",
       "      <td>10.320000</td>\n",
       "    </tr>\n",
       "    <tr>\n",
       "      <td>2012-01-04</td>\n",
       "      <td>11.567142</td>\n",
       "      <td>10.258572</td>\n",
       "      <td>10.335714</td>\n",
       "      <td>11.492857</td>\n",
       "      <td>100489900.0</td>\n",
       "      <td>11.492857</td>\n",
       "    </tr>\n",
       "    <tr>\n",
       "      <td>2012-01-05</td>\n",
       "      <td>11.694285</td>\n",
       "      <td>11.040000</td>\n",
       "      <td>11.345715</td>\n",
       "      <td>11.328571</td>\n",
       "      <td>86552900.0</td>\n",
       "      <td>11.328571</td>\n",
       "    </tr>\n",
       "    <tr>\n",
       "      <td>2012-01-06</td>\n",
       "      <td>12.471429</td>\n",
       "      <td>11.242857</td>\n",
       "      <td>11.302857</td>\n",
       "      <td>12.327143</td>\n",
       "      <td>125610800.0</td>\n",
       "      <td>12.327143</td>\n",
       "    </tr>\n",
       "    <tr>\n",
       "      <td>2012-01-09</td>\n",
       "      <td>14.235714</td>\n",
       "      <td>12.448571</td>\n",
       "      <td>12.801429</td>\n",
       "      <td>14.025714</td>\n",
       "      <td>214073300.0</td>\n",
       "      <td>14.025714</td>\n",
       "    </tr>\n",
       "  </tbody>\n",
       "</table>\n",
       "</div>"
      ],
      "text/plain": [
       "                 High        Low       Open      Close       Volume  Adj Close\n",
       "Date                                                                          \n",
       "2012-01-03  10.388572  10.018572  10.040000  10.320000   29213800.0  10.320000\n",
       "2012-01-04  11.567142  10.258572  10.335714  11.492857  100489900.0  11.492857\n",
       "2012-01-05  11.694285  11.040000  11.345715  11.328571   86552900.0  11.328571\n",
       "2012-01-06  12.471429  11.242857  11.302857  12.327143  125610800.0  12.327143\n",
       "2012-01-09  14.235714  12.448571  12.801429  14.025714  214073300.0  14.025714"
      ]
     },
     "execution_count": 6,
     "metadata": {},
     "output_type": "execute_result"
    }
   ],
   "source": [
    "nflx.head()"
   ]
  },
  {
   "cell_type": "code",
   "execution_count": 9,
   "metadata": {},
   "outputs": [
    {
     "data": {
      "text/plain": [
       "<matplotlib.axes._subplots.AxesSubplot at 0x113737cf8>"
      ]
     },
     "execution_count": 9,
     "metadata": {},
     "output_type": "execute_result"
    },
    {
     "data": {
      "image/png": "[encoded data removed]",
      "text/plain": [
       "<matplotlib.figure.Figure at 0x113719ef0>"
      ]
     },
     "metadata": {},
     "output_type": "display_data"
    }
   ],
   "source": [
    "# Plotting the closed prices\n",
    "\n",
    "nflx['Close'].plot()"
   ]
  },
  {
   "cell_type": "markdown",
   "metadata": {},
   "source": [
    "## Quick Dirty Predictions\n",
    "\n",
    "With no feature engineering"
   ]
  },
  {
   "cell_type": "markdown",
   "metadata": {},
   "source": [
    "What we will be predicting is the Adjusted Closing Price (instead of Closing Price: https://www.investopedia.com/terms/a/adjusted_closing_price.asp)."
   ]
  },
  {
   "cell_type": "code",
   "execution_count": 14,
   "metadata": {},
   "outputs": [
    {
     "data": {
      "text/plain": [
       "[0, 0, 0, 0, 0, 0]"
      ]
     },
     "execution_count": 14,
     "metadata": {},
     "output_type": "execute_result"
    }
   ],
   "source": [
    "# Checking to see if there are any missing values\n",
    "\n",
    "[sum(nflx[col].isnull()) for col in nflx.columns]"
   ]
  },
  {
   "cell_type": "code",
   "execution_count": 48,
   "metadata": {},
   "outputs": [],
   "source": [
    "# Separating the data into features (X) and target (y)\n",
    "\n",
    "X = nflx.loc[:,['High','Low','Open','Volume']].values.reshape(-1,4)\n",
    "y = nflx.loc[:,['Adj Close']].values.reshape(-1,1)"
   ]
  },
  {
   "cell_type": "code",
   "execution_count": 50,
   "metadata": {
    "collapsed": true
   },
   "outputs": [],
   "source": [
    "# Splitting data into train, test, and validation sets\n",
    "\n",
    "X_train, X_test, y_train, y_test = train_test_split(X, y, test_size=0.2, random_state=0)\n",
    "X_train, X_val, y_train, y_val = train_test_split(X_train, y_train, test_size=0.2, random_state=0)"
   ]
  },
  {
   "cell_type": "code",
   "execution_count": 93,
   "metadata": {},
   "outputs": [],
   "source": [
    "# Function for a dirty algorithm\n",
    "\n",
    "def linear_alg_score(alg):\n",
    "    alg.fit(X_train, y_train)\n",
    "    return [alg, alg.score(X_test, y_test), alg.coef_, alg.intercept_]"
   ]
  },
  {
   "cell_type": "code",
   "execution_count": 94,
   "metadata": {
    "collapsed": true
   },
   "outputs": [],
   "source": [
    "# Function to plot predictions with actual values\n",
    "\n",
    "def comparison(alg, results):\n",
    "    temp = pd.DataFrame({'actual':y_test.flatten(), 'predicted':alg.predict(X_test).flatten()})\n",
    "    plt.plot(temp['actual'], linestyle='None', marker='.')\n",
    "    plt.plot(temp['predictions'], linestyle='None', marker='.')\n",
    "    plt.legend()\n",
    "    plt.show()"
   ]
  },
  {
   "cell_type": "code",
   "execution_count": 51,
   "metadata": {},
   "outputs": [
    {
     "name": "stdout",
     "output_type": "stream",
     "text": [
      "(1233, 4)\n",
      "(386, 4)\n",
      "(309, 4)\n",
      "(1928, 4)\n"
     ]
    }
   ],
   "source": [
    "# Checking to see the size of each set\n",
    "\n",
    "print(X_train.shape)\n",
    "print(X_test.shape)\n",
    "print(X_val.shape)\n",
    "print(X.shape)"
   ]
  },
  {
   "cell_type": "markdown",
   "metadata": {},
   "source": [
    "The three regression models we will be using is ridge, lasso, and elastic net"
   ]
  },
  {
   "cell_type": "code",
   "execution_count": 52,
   "metadata": {},
   "outputs": [
    {
     "name": "stdout",
     "output_type": "stream",
     "text": [
      "0.9998209396547914\n",
      "[[ 8.18735840e-01  8.14483673e-01 -6.32910994e-01  1.73604757e-10]] [0.03247446]\n"
     ]
    }
   ],
   "source": [
    "# Ridge Regression\n",
    "\n",
    "dirty_ridge = linear_model.Ridge(alpha=0.5)\n",
    "dirty_ridge.fit(X_train, y_train)\n",
    "dirty_ridge_score = dirty_ridge.score(X_test, y_test)\n",
    "print(dirty_ridge_score)\n",
    "print(dirty_ridge.coef_, dirty_ridge.intercept_)"
   ]
  },
  {
   "cell_type": "code",
   "execution_count": 92,
   "metadata": {},
   "outputs": [
    {
     "data": {
      "text/plain": [
       "'Score: 1e+00 '"
      ]
     },
     "execution_count": 92,
     "metadata": {},
     "output_type": "execute_result"
    }
   ],
   "source": [
    "dirty_ridge = linear_model.Ridge(alpha=0.5)\n",
    "\n",
    "linear_alg_score(dirty_ridge)"
   ]
  },
  {
   "cell_type": "code",
   "execution_count": null,
   "metadata": {
    "collapsed": true
   },
   "outputs": [],
   "source": []
  },
  {
   "cell_type": "code",
   "execution_count": 56,
   "metadata": {},
   "outputs": [],
   "source": [
    "results = pd.DataFrame({'Actual':y_test.flatten(), 'Predicted':dirty_ridge.predict(X_test).flatten()})"
   ]
  },
  {
   "cell_type": "code",
   "execution_count": 57,
   "metadata": {},
   "outputs": [
    {
     "data": {
      "text/html": [
       "<div>\n",
       "<style scoped>\n",
       "    .dataframe tbody tr th:only-of-type {\n",
       "        vertical-align: middle;\n",
       "    }\n",
       "\n",
       "    .dataframe tbody tr th {\n",
       "        vertical-align: top;\n",
       "    }\n",
       "\n",
       "    .dataframe thead th {\n",
       "        text-align: right;\n",
       "    }\n",
       "</style>\n",
       "<table border=\"1\" class=\"dataframe\">\n",
       "  <thead>\n",
       "    <tr style=\"text-align: right;\">\n",
       "      <th></th>\n",
       "      <th>Actual</th>\n",
       "      <th>Predicted</th>\n",
       "    </tr>\n",
       "  </thead>\n",
       "  <tbody>\n",
       "    <tr>\n",
       "      <td>0</td>\n",
       "      <td>54.720001</td>\n",
       "      <td>54.762629</td>\n",
       "    </tr>\n",
       "    <tr>\n",
       "      <td>1</td>\n",
       "      <td>104.830002</td>\n",
       "      <td>105.444780</td>\n",
       "    </tr>\n",
       "    <tr>\n",
       "      <td>2</td>\n",
       "      <td>9.037143</td>\n",
       "      <td>9.070545</td>\n",
       "    </tr>\n",
       "    <tr>\n",
       "      <td>3</td>\n",
       "      <td>63.794285</td>\n",
       "      <td>63.213151</td>\n",
       "    </tr>\n",
       "    <tr>\n",
       "      <td>4</td>\n",
       "      <td>43.058571</td>\n",
       "      <td>43.302708</td>\n",
       "    </tr>\n",
       "  </tbody>\n",
       "</table>\n",
       "</div>"
      ],
      "text/plain": [
       "       Actual   Predicted\n",
       "0   54.720001   54.762629\n",
       "1  104.830002  105.444780\n",
       "2    9.037143    9.070545\n",
       "3   63.794285   63.213151\n",
       "4   43.058571   43.302708"
      ]
     },
     "execution_count": 57,
     "metadata": {},
     "output_type": "execute_result"
    }
   ],
   "source": [
    "results.head()"
   ]
  },
  {
   "cell_type": "code",
   "execution_count": 66,
   "metadata": {},
   "outputs": [
    {
     "data": {
      "text/plain": [
       "[<matplotlib.lines.Line2D at 0x1a2267d978>]"
      ]
     },
     "execution_count": 66,
     "metadata": {},
     "output_type": "execute_result"
    },
    {
     "data": {
      "image/png": "[encoded data removed]",
      "text/plain": [
       "<matplotlib.figure.Figure at 0x1a22498470>"
      ]
     },
     "metadata": {},
     "output_type": "display_data"
    }
   ],
   "source": [
    "# Plotting predictions vs actual values\n",
    "\n",
    "plt.plot(results['Actual'], linestyle='None', marker='.')\n",
    "plt.plot(results['Predicted'], linestyle='None', marker='.')"
   ]
  },
  {
   "cell_type": "code",
   "execution_count": 40,
   "metadata": {},
   "outputs": [
    {
     "name": "stdout",
     "output_type": "stream",
     "text": [
      "0.9997731839828211\n",
      "[ 9.73927107e-01  2.69923628e-01 -2.56438234e-01 -1.86887645e-08] [0.58862472]\n"
     ]
    },
    {
     "name": "stderr",
     "output_type": "stream",
     "text": [
      "/anaconda3/lib/python3.6/site-packages/sklearn/linear_model/coordinate_descent.py:491: ConvergenceWarning: Objective did not converge. You might want to increase the number of iterations. Fitting data with very small alpha may cause precision problems.\n",
      "  ConvergenceWarning)\n"
     ]
    }
   ],
   "source": [
    "# Lasso Regression\n",
    "\n",
    "dirty_lasso = linear_model.Lasso(alpha=0.5)\n",
    "dirty_lasso.fit(X_train, y_train)\n",
    "dirty_lasso_score = dirty_lasso.score(X_test, y_test)\n",
    "print(dirty_lasso_score)\n",
    "print(dirty_lasso.coef_, dirty_lasso.intercept_)"
   ]
  },
  {
   "cell_type": "code",
   "execution_count": 38,
   "metadata": {},
   "outputs": [
    {
     "name": "stdout",
     "output_type": "stream",
     "text": [
      "0.9997766390978393\n",
      "[ 9.73927107e-01  2.69923628e-01 -2.56438234e-01 -1.86887645e-08] [0.58862472]\n"
     ]
    },
    {
     "name": "stderr",
     "output_type": "stream",
     "text": [
      "/anaconda3/lib/python3.6/site-packages/sklearn/linear_model/coordinate_descent.py:491: ConvergenceWarning: Objective did not converge. You might want to increase the number of iterations. Fitting data with very small alpha may cause precision problems.\n",
      "  ConvergenceWarning)\n"
     ]
    }
   ],
   "source": [
    "# Elastic Net Regression\n",
    "\n",
    "dirty_enet = linear_model.ElasticNet(alpha=0.5, l1_ratio=0.7)\n",
    "dirty_enet.fit(X_train, y_train)\n",
    "dirty_enet_score = dirty_enet.score(X_test, y_test)\n",
    "print(dirty_enet_score)\n",
    "print(dirty_lasso.coef_, dirty_lasso.intercept_)"
   ]
  },
  {
   "cell_type": "code",
   "execution_count": null,
   "metadata": {
    "collapsed": true
   },
   "outputs": [],
   "source": []
  }
 ],
 "metadata": {
  "kernelspec": {
   "display_name": "Python 3",
   "language": "python",
   "name": "python3"
  },
  "language_info": {
   "codemirror_mode": {
    "name": "ipython",
    "version": 3
   },
   "file_extension": ".py",
   "mimetype": "text/x-python",
   "name": "python",
   "nbconvert_exporter": "python",
   "pygments_lexer": "ipython3",
   "version": "3.6.6"
  }
 },
 "nbformat": 4,
 "nbformat_minor": 2
}
